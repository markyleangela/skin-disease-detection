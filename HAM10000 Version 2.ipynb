{
 "cells": [
  {
   "cell_type": "code",
   "execution_count": 124,
   "id": "69cd7442",
   "metadata": {},
   "outputs": [],
   "source": [
    "import keras\n",
    "import tensorflow\n",
    "import h5py\n",
    "import numpy as np\n",
    "import os\n",
    "import pandas as pd\n",
    "import shutil\n",
    "import tensorflow as tf\n",
    "from keras.api.models import Sequential, Model\n",
    "from keras.api.layers import Dense, Conv2D, Flatten, MaxPooling2D, Dropout, BatchNormalization, LSTM, Input, GlobalAveragePooling2D\n",
    "from keras.api.optimizers import Adam\n",
    "from keras import regularizers\n",
    "from tensorflow.keras.callbacks import ReduceLROnPlateau\n",
    "from tensorflow.keras.callbacks import ModelCheckpoint"
   ]
  },
  {
   "cell_type": "code",
   "execution_count": 125,
   "id": "51d70d8b",
   "metadata": {},
   "outputs": [
    {
     "name": "stdout",
     "output_type": "stream",
     "text": [
      "         lesion_id      image_id   dx    dx_type   age     sex localization  \\\n",
      "0      HAM_0000118  ISIC_0027419  bkl      histo  80.0    male        scalp   \n",
      "1      HAM_0000118  ISIC_0025030  bkl      histo  80.0    male        scalp   \n",
      "2      HAM_0002730  ISIC_0026769  bkl      histo  80.0    male        scalp   \n",
      "3      HAM_0002730  ISIC_0025661  bkl      histo  80.0    male        scalp   \n",
      "4      HAM_0001466  ISIC_0031633  bkl      histo  75.0    male          ear   \n",
      "...            ...           ...  ...        ...   ...     ...          ...   \n",
      "9683   HAM_0000102  ISIC_0031547   nv  consensus  20.0    male         back   \n",
      "9684   HAM_0000102  ISIC_0032221   nv  consensus  20.0    male         back   \n",
      "9685   HAM_0005314  ISIC_0030693   nv  consensus  40.0    male         neck   \n",
      "9686   HAM_0003322  ISIC_0031649   nv  consensus  50.0  female         face   \n",
      "10014  HAM_0003521  ISIC_0032258  mel      histo  70.0  female         back   \n",
      "\n",
      "                      diagnosis_full  \n",
      "0      Benign keratosis-like lesions  \n",
      "1      Benign keratosis-like lesions  \n",
      "2      Benign keratosis-like lesions  \n",
      "3      Benign keratosis-like lesions  \n",
      "4      Benign keratosis-like lesions  \n",
      "...                              ...  \n",
      "9683                Melanocytic nevi  \n",
      "9684                Melanocytic nevi  \n",
      "9685                Melanocytic nevi  \n",
      "9686                Melanocytic nevi  \n",
      "10014                       Melanoma  \n",
      "\n",
      "[8917 rows x 8 columns]\n",
      "dx\n",
      "nv     6705\n",
      "mel    1113\n",
      "bkl    1099\n",
      "Name: count, dtype: int64\n",
      "diagnosis_full\n",
      "Melanocytic nevi                 6705\n",
      "Melanoma                         1113\n",
      "Benign keratosis-like lesions    1099\n",
      "Name: count, dtype: int64\n"
     ]
    }
   ],
   "source": [
    "meta = pd.read_csv(\"Ham10k Original/HAM10000_metadata.csv\")\n",
    "meta = meta[meta['dx'].isin(['nv', 'mel', 'bkl'])]\n",
    "\n",
    "label_map = {\n",
    "    'bkl': 'Benign keratosis-like lesions',\n",
    "    'nv': 'Melanocytic nevi',\n",
    "    'mel': 'Melanoma',\n",
    "}\n",
    "\n",
    "meta['diagnosis_full'] = meta['dx'].map(label_map)\n",
    "\n",
    "print(meta)\n",
    "print(meta['dx'].value_counts())\n",
    "print(meta['diagnosis_full'].value_counts())"
   ]
  },
  {
   "cell_type": "code",
   "execution_count": 126,
   "id": "fe6c2c8a",
   "metadata": {},
   "outputs": [
    {
     "name": "stdout",
     "output_type": "stream",
     "text": [
      "        lesion_id      image_id   dx    dx_type   age     sex  \\\n",
      "52    HAM_0000972  ISIC_0031605   nv  follow_up  60.0    male   \n",
      "680   HAM_0000528  ISIC_0028782   nv  follow_up  45.0    male   \n",
      "1376  HAM_0000179  ISIC_0033700  mel      histo  45.0    male   \n",
      "1237  HAM_0001202  ISIC_0031517  mel      histo  70.0  female   \n",
      "203   HAM_0007475  ISIC_0034207   nv      histo  50.0  female   \n",
      "...           ...           ...  ...        ...   ...     ...   \n",
      "1095  HAM_0003451  ISIC_0027298   nv      histo  70.0    male   \n",
      "1130  HAM_0005557  ISIC_0028215  mel      histo  75.0  female   \n",
      "1294  HAM_0005642  ISIC_0027659  mel      histo  70.0    male   \n",
      "860   HAM_0003025  ISIC_0027440   nv  follow_up  35.0  female   \n",
      "3174  HAM_0007427  ISIC_0033660  bkl  consensus  60.0  female   \n",
      "\n",
      "         localization                 diagnosis_full  \n",
      "52              chest               Melanocytic nevi  \n",
      "680   lower extremity               Melanocytic nevi  \n",
      "1376             back                       Melanoma  \n",
      "1237  upper extremity                       Melanoma  \n",
      "203              foot               Melanocytic nevi  \n",
      "...               ...                            ...  \n",
      "1095             back               Melanocytic nevi  \n",
      "1130  lower extremity                       Melanoma  \n",
      "1294             back                       Melanoma  \n",
      "860             trunk               Melanocytic nevi  \n",
      "3174             back  Benign keratosis-like lesions  \n",
      "\n",
      "[3312 rows x 8 columns]\n"
     ]
    }
   ],
   "source": [
    "#shuffle 6k data and only save 1\n",
    "#get the nevi\n",
    "nevi_dataset = meta[meta['dx'].isin(['nv'])]\n",
    "nevi_dataset = nevi_dataset.sample(n=1100, random_state=42)\n",
    "#get the mel\n",
    "mel_dataset = meta[meta['dx'].isin(['mel'])]\n",
    "#get the bkl\n",
    "bkl_dataset = meta[meta['dx'].isin(['bkl'])]\n",
    "model_dataset1 = pd.concat([nevi_dataset, mel_dataset, bkl_dataset], ignore_index=True)\n",
    "model_dataset1 = model_dataset1.sample(frac=1, random_state=42)\n",
    "\n",
    "model_dataset2 = model_dataset1.copy(deep=True)\n",
    "print(model_dataset1)\n"
   ]
  },
  {
   "cell_type": "code",
   "execution_count": 127,
   "id": "3fe12440",
   "metadata": {},
   "outputs": [],
   "source": [
    "# Get original image path\n",
    "def get_original_image_path(image_id):\n",
    "    return f\"Ham10k Original/HAM10000 All Image/{image_id}.jpg\" # Original\n",
    "\n",
    "# Get preprocessed image path\n",
    "# def get_preprocessed_image_path(image_id):\n",
    "#     return f\"Preprocessed/{image_id}.jpg\" # Segmented\n",
    "\n",
    "# Apply separately\n",
    "model_dataset1['image_path'] = model_dataset1['image_id'].apply(get_original_image_path) # Original\n",
    "# model_dataset2['image_path'] = model_dataset2['image_id'].apply(get_preprocessed_image_path) # Segmented\n"
   ]
  },
  {
   "cell_type": "code",
   "execution_count": 128,
   "id": "ff7a4db3",
   "metadata": {},
   "outputs": [
    {
     "name": "stdout",
     "output_type": "stream",
     "text": [
      "Ham10k Original/HAM10000 All Image/ISIC_0031605.jpg\n"
     ]
    }
   ],
   "source": [
    "\n",
    "print(model_dataset1['image_path'].values[0])\n",
    "# print(model_dataset2['image_path'].values[0])"
   ]
  },
  {
   "cell_type": "code",
   "execution_count": 129,
   "id": "bc92f011",
   "metadata": {},
   "outputs": [
    {
     "name": "stdout",
     "output_type": "stream",
     "text": [
      "        lesion_id      image_id   dx    dx_type   age     sex  \\\n",
      "52    HAM_0000972  ISIC_0031605   nv  follow_up  60.0    male   \n",
      "680   HAM_0000528  ISIC_0028782   nv  follow_up  45.0    male   \n",
      "1376  HAM_0000179  ISIC_0033700  mel      histo  45.0    male   \n",
      "1237  HAM_0001202  ISIC_0031517  mel      histo  70.0  female   \n",
      "203   HAM_0007475  ISIC_0034207   nv      histo  50.0  female   \n",
      "...           ...           ...  ...        ...   ...     ...   \n",
      "1095  HAM_0003451  ISIC_0027298   nv      histo  70.0    male   \n",
      "1130  HAM_0005557  ISIC_0028215  mel      histo  75.0  female   \n",
      "1294  HAM_0005642  ISIC_0027659  mel      histo  70.0    male   \n",
      "860   HAM_0003025  ISIC_0027440   nv  follow_up  35.0  female   \n",
      "3174  HAM_0007427  ISIC_0033660  bkl  consensus  60.0  female   \n",
      "\n",
      "         localization                 diagnosis_full  \\\n",
      "52              chest               Melanocytic nevi   \n",
      "680   lower extremity               Melanocytic nevi   \n",
      "1376             back                       Melanoma   \n",
      "1237  upper extremity                       Melanoma   \n",
      "203              foot               Melanocytic nevi   \n",
      "...               ...                            ...   \n",
      "1095             back               Melanocytic nevi   \n",
      "1130  lower extremity                       Melanoma   \n",
      "1294             back                       Melanoma   \n",
      "860             trunk               Melanocytic nevi   \n",
      "3174             back  Benign keratosis-like lesions   \n",
      "\n",
      "                                             image_path  encoded_label  \n",
      "52    Ham10k Original/HAM10000 All Image/ISIC_003160...              1  \n",
      "680   Ham10k Original/HAM10000 All Image/ISIC_002878...              1  \n",
      "1376  Ham10k Original/HAM10000 All Image/ISIC_003370...              2  \n",
      "1237  Ham10k Original/HAM10000 All Image/ISIC_003151...              2  \n",
      "203   Ham10k Original/HAM10000 All Image/ISIC_003420...              1  \n",
      "...                                                 ...            ...  \n",
      "1095  Ham10k Original/HAM10000 All Image/ISIC_002729...              1  \n",
      "1130  Ham10k Original/HAM10000 All Image/ISIC_002821...              2  \n",
      "1294  Ham10k Original/HAM10000 All Image/ISIC_002765...              2  \n",
      "860   Ham10k Original/HAM10000 All Image/ISIC_002744...              1  \n",
      "3174  Ham10k Original/HAM10000 All Image/ISIC_003366...              0  \n",
      "\n",
      "[3312 rows x 10 columns]\n"
     ]
    }
   ],
   "source": [
    "from sklearn.preprocessing import LabelEncoder\n",
    "\n",
    "le = LabelEncoder()\n",
    "model_dataset1['encoded_label'] = le.fit_transform(model_dataset1['diagnosis_full'])\n",
    "# model_dataset2['encoded_label'] = le.fit_transform(model_dataset2['diagnosis_full'])\n",
    "print(model_dataset1)\n"
   ]
  },
  {
   "cell_type": "code",
   "execution_count": null,
   "id": "c6a1d4ae",
   "metadata": {},
   "outputs": [],
   "source": [
    "# combined_df = pd.concat([model_dataset1, model_dataset2], ignore_index=True)\n",
    "# combined_df.head()"
   ]
  },
  {
   "cell_type": "code",
   "execution_count": null,
   "id": "d9a0944c",
   "metadata": {},
   "outputs": [],
   "source": [
    "from sklearn.model_selection import train_test_split\n",
    "\n",
    "train_df, test_df = train_test_split(\n",
    "    combined_df,\n",
    "    test_size=0.2,\n",
    "    stratify=combined_df['encoded_label'],\n",
    "    random_state=42\n",
    ")\n",
    "train_df['encoded_label'] = train_df['encoded_label'].astype(str)\n",
    "test_df['encoded_label'] = test_df['encoded_label'].astype(str)\n",
    "\n",
    "print(train_df)\n",
    "print(test_df)"
   ]
  },
  {
   "cell_type": "code",
   "execution_count": null,
   "id": "9f789cc9",
   "metadata": {},
   "outputs": [],
   "source": [
    "# print(train_df)\n",
    "# print(test_df)\n",
    "\n",
    "# test_orig_folder = \"downsampled_data/test\"\n",
    "# train_orig_folder = \"downsampled_data/train\"\n",
    "\n",
    "# test_pre_folder = \"downsampled_data/test2\"\n",
    "# train_pre_folder = \"downsampled_data/train2\"\n",
    "\n",
    "# os.makedirs(test_orig_folder, exist_ok=True)\n",
    "# os.makedirs(train_orig_folder, exist_ok=True)\n",
    "# os.makedirs(test_pre_folder, exist_ok=True)\n",
    "# os.makedirs(train_pre_folder, exist_ok=True)\n",
    "\n",
    "\n",
    "# for path in train_df['original_image_path']:\n",
    "#     shutil.copy(path, test_orig_folder)\n",
    "\n",
    "# for path in test_df['original_image_path']:\n",
    "#     shutil.copy(path, train_orig_folder)\n",
    "    \n",
    "# for path in train_df['preprocessed_image_path']:\n",
    "#     shutil.copy(path, test_pre_folder)\n",
    "\n",
    "# for path in test_df['preprocessed_image_path']:\n",
    "#     shutil.copy(path, train_pre_folder)\n"
   ]
  },
  {
   "cell_type": "code",
   "execution_count": null,
   "id": "ca8d3ebc",
   "metadata": {},
   "outputs": [],
   "source": [
    "from tensorflow.keras.preprocessing.image import ImageDataGenerator\n",
    "\n",
    "train_datagen = ImageDataGenerator(\n",
    "     rescale=1./255,\n",
    "     rotation_range=20,\n",
    "     width_shift_range=0.1,\n",
    "     height_shift_range=0.1,\n",
    "     zoom_range=0.2,\n",
    "     horizontal_flip=True\n",
    " )\n",
    "\n",
    "test_datagen = ImageDataGenerator(rescale=1./255)\n"
   ]
  },
  {
   "cell_type": "code",
   "execution_count": null,
   "id": "c161801d",
   "metadata": {},
   "outputs": [],
   "source": [
    "train_generator = train_datagen.flow_from_dataframe(\n",
    "    train_df,\n",
    "    x_col='image_path',\n",
    "    y_col='encoded_label',\n",
    "    target_size=(224, 224),\n",
    "    class_mode='sparse',\n",
    "    batch_size=32,\n",
    "    shuffle=True\n",
    ")\n",
    "\n",
    "test_generator = test_datagen.flow_from_dataframe(\n",
    "    test_df,\n",
    "    x_col='image_path',\n",
    "    y_col='encoded_label',\n",
    "    target_size=(224, 224),\n",
    "    class_mode='sparse',\n",
    "    batch_size=32,\n",
    "    shuffle=False\n",
    ")"
   ]
  },
  {
   "cell_type": "code",
   "execution_count": null,
   "id": "b117020d",
   "metadata": {},
   "outputs": [],
   "source": [
    "# from sklearn.utils.class_weight import compute_class_weight\n",
    "# import numpy as np\n",
    "\n",
    "# class_weights = compute_class_weight(\n",
    "#     class_weight='balanced',\n",
    "#     classes=np.unique(train_df['encoded_label']),\n",
    "#     y=train_df['encoded_label']\n",
    "# )\n",
    "\n",
    "# class_weights = dict(enumerate(class_weights))"
   ]
  },
  {
   "cell_type": "code",
   "execution_count": null,
   "id": "32873b7a",
   "metadata": {},
   "outputs": [],
   "source": [
    "from tensorflow.keras.applications import ResNet50V2\n",
    "from tensorflow.keras.models import Model\n",
    "from tensorflow.keras.layers import Dense, GlobalAveragePooling2D\n",
    "\n",
    "# Load ResNet50v2 pretrained model (with ImageNet weights)\n",
    "RES_base_model = ResNet50V2(weights='imagenet', include_top=False)\n",
    "\n",
    "for layer in RES_base_model.layers:\n",
    "    layer.trainable = False\n",
    "\n",
    "for layer in RES_base_model.layers[-102:]:\n",
    "    layer.trainable = True\n",
    "\n",
    "for i, layer in enumerate(RES_base_model.layers):\n",
    "    if layer.trainable:\n",
    "        print(f\"Layer {i}: {layer.name}\")\n",
    "\n"
   ]
  },
  {
   "cell_type": "code",
   "execution_count": null,
   "id": "a0d480e0",
   "metadata": {},
   "outputs": [],
   "source": [
    "# Add custom layers for classification\n",
    "x = RES_base_model.output\n",
    "x = GlobalAveragePooling2D()(x)\n",
    "x = Dense(256, activation='relu')(x)\n",
    "predictions = Dense(3, activation='softmax')(x)\n",
    "\n",
    "# Create model\n",
    "RES_model = Model(inputs=RES_base_model.input, outputs=predictions)\n",
    "\n",
    "for i, layer in enumerate(RES_model.layers):\n",
    "    if layer.trainable:\n",
    "        print(f\"Layer {i}: {layer.name}\")"
   ]
  },
  {
   "cell_type": "code",
   "execution_count": null,
   "id": "21287ab5",
   "metadata": {},
   "outputs": [],
   "source": [
    "\n",
    "# Recompile the model after unfreezing\n",
    "RES_model.compile(optimizer=Adam(learning_rate=0.0001), loss='sparse_categorical_crossentropy', metrics=['accuracy'])"
   ]
  },
  {
   "cell_type": "code",
   "execution_count": null,
   "id": "b787765b",
   "metadata": {},
   "outputs": [],
   "source": [
    "\n",
    "reduce_lr = ReduceLROnPlateau(\n",
    "    monitor='val_loss',  # Monitor the validation loss\n",
    "    factor=0.2,  # Reduce the learning rate by this factor\n",
    "    patience=5,  # Number of epochs to wait before reducing the LR\n",
    "    min_lr=1e-7,  # Minimum learning rate\n",
    "    verbose=1  # Print message when learning rate is reduced\n",
    ")\n",
    "# Define the ModelCheckpoint callback\n",
    "checkpoint = ModelCheckpoint(\n",
    "    'model_epoch_{epoch:02d}_acc_{accuracy:.2f}_loss_{loss:.2f}_valacc_{val_accuracy:.2f}_valloss_{val_loss:.2f}.keras',\n",
    "    monitor='val_loss',  # Monitor validation loss to save the best model\n",
    "    save_best_only=True,  # Save only the best model based on validation loss\n",
    "    save_weights_only=False,  # Save the full model (architecture + weights)\n",
    "    verbose=1\n",
    ")\n",
    "RES_model.fit(\n",
    "    train_generator,\n",
    "    validation_data=test_generator,\n",
    "    epochs=80,\n",
    "    callbacks=[reduce_lr, checkpoint]\n",
    ")"
   ]
  },
  {
   "cell_type": "code",
   "execution_count": null,
   "id": "1665062c",
   "metadata": {},
   "outputs": [],
   "source": [
    "from keras.api.models import load_model\n",
    "RES_model = load_model(\"model_epoch_22_acc_0.98_loss_0.05_valacc_0.89_valloss_0.39.keras\")\n",
    "results = RES_model.evaluate(test_generator)\n",
    "print(\"Test Loss, Test Accuracy:\", results[0], results[1])\n",
    "RES_y_true = test_generator.classes\n",
    "RES_y_pred = np.argmax(RES_model.predict(test_generator), axis=1)\n"
   ]
  },
  {
   "cell_type": "code",
   "execution_count": null,
   "id": "f36607df",
   "metadata": {},
   "outputs": [],
   "source": [
    "import numpy as np\n",
    "from sklearn.metrics import classification_report, confusion_matrix, ConfusionMatrixDisplay\n",
    "import matplotlib.pyplot as plt\n",
    "\n",
    "# Get true and predicted labels\n",
    "RES_y_true = test_generator.classes\n",
    "RES_y_pred_probs = RES_model.predict(test_generator)\n",
    "RES_y_pred = np.argmax(RES_y_pred_probs, axis=1)\n",
    "\n",
    "# Print classification report\n",
    "target_names = list(test_generator.class_indices.keys())  # class labels as strings\n",
    "print(\"\\nClassification Report:\\n\")\n",
    "print(classification_report(RES_y_true, RES_y_pred, target_names=target_names))\n",
    "\n",
    "# Plot confusion matrix\n",
    "cm = confusion_matrix(RES_y_true, RES_y_pred)\n",
    "disp = ConfusionMatrixDisplay(confusion_matrix=cm, display_labels=target_names)\n",
    "\n",
    "plt.figure(figsize=(10, 8))\n",
    "disp.plot(cmap=plt.cm.Blues, xticks_rotation=45)\n",
    "plt.title(\"Confusion Matrix\")\n",
    "plt.show()"
   ]
  }
 ],
 "metadata": {
  "kernelspec": {
   "display_name": "Python 3",
   "language": "python",
   "name": "python3"
  },
  "language_info": {
   "codemirror_mode": {
    "name": "ipython",
    "version": 3
   },
   "file_extension": ".py",
   "mimetype": "text/x-python",
   "name": "python",
   "nbconvert_exporter": "python",
   "pygments_lexer": "ipython3",
   "version": "3.12.3"
  }
 },
 "nbformat": 4,
 "nbformat_minor": 5
}
